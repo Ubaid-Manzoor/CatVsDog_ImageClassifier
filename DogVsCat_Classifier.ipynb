{
  "nbformat": 4,
  "nbformat_minor": 0,
  "metadata": {
    "colab": {
      "name": "DogVsCat Classifier.ipynb",
      "version": "0.3.2",
      "provenance": [],
      "include_colab_link": true
    },
    "kernelspec": {
      "name": "python3",
      "display_name": "Python 3"
    },
    "accelerator": "GPU"
  },
  "cells": [
    {
      "cell_type": "markdown",
      "metadata": {
        "id": "view-in-github",
        "colab_type": "text"
      },
      "source": [
        "<a href=\"https://colab.research.google.com/github/Ubaid-Manzoor/CatVsDog_ImageClassifier/blob/master/DogVsCat_Classifier.ipynb\" target=\"_parent\"><img src=\"https://colab.research.google.com/assets/colab-badge.svg\" alt=\"Open In Colab\"/></a>"
      ]
    },
    {
      "metadata": {
        "id": "Gk8l5DIOjibD",
        "colab_type": "code",
        "colab": {}
      },
      "cell_type": "code",
      "source": [
        "#This Block Of Code Only Needed in Google Colab\n",
        "\n",
        "from google.colab import files\n",
        "files.upload()"
      ],
      "execution_count": 0,
      "outputs": []
    },
    {
      "metadata": {
        "id": "AmB8r4EYjjI4",
        "colab_type": "code",
        "colab": {}
      },
      "cell_type": "code",
      "source": [
        "#This Block Of Code Only Needed in Google Colab\n",
        "\n",
        "!mkdir -p ~/.kaggle\n",
        "!cp kaggle.json ~/.kaggle\n",
        "\n",
        "#To Avoid Warning\n",
        "!chmod 600 ~/.kaggle/kaggle.json"
      ],
      "execution_count": 0,
      "outputs": []
    },
    {
      "metadata": {
        "id": "DkvfOnFijjPv",
        "colab_type": "code",
        "colab": {}
      },
      "cell_type": "code",
      "source": [
        "#This Block Of Code Only Needed in Google Colab\n",
        "!kaggle competitions download -c dogs-vs-cats-redux-kernels-edition"
      ],
      "execution_count": 0,
      "outputs": []
    },
    {
      "metadata": {
        "_uuid": "8f2839f25d086af736a60e9eeb907d3b93b6e0e5",
        "_cell_guid": "b1076dfc-b9ad-4769-8c92-a6c4dae69d19",
        "trusted": true,
        "scrolled": true,
        "id": "AOe66D0ShIqq",
        "colab_type": "code",
        "outputId": "9e03fab8-ab4a-4e96-e22c-2f1c2cc075d1",
        "colab": {
          "base_uri": "https://localhost:8080/",
          "height": 34
        }
      },
      "cell_type": "code",
      "source": [
        "# This Python 3 environment comes with many helpful analytics libraries installed\n",
        "# It is defined by the kaggle/python docker image: https://github.com/kaggle/docker-python\n",
        "# For example, here's several helpful packages to load in \n",
        "\n",
        "import numpy as np # linear algebra\n",
        "import pandas as pd # data processing, CSV file I/O (e.g. pd.read_csv)\n",
        "\n",
        "# Input data files are available in the \"../input/\" directory.\n",
        "# For example, running this (by clicking run or pressing Shift+Enter) will list the files in the input directory\n",
        "\n",
        "import os\n",
        "print(os.listdir(\"../content\"))\n",
        "\n",
        "# Any results you write to the current directory are saved as output."
      ],
      "execution_count": 4,
      "outputs": [
        {
          "output_type": "stream",
          "text": [
            "['.config', 'test', 'sample_submission.csv', 'kaggle.json', 'y_train', 'test_data', 'X_train', 'train', 'dogsVScats.csv', 'test.zip', 'train.zip', 'logs', 'sample_data']\n"
          ],
          "name": "stdout"
        }
      ]
    },
    {
      "metadata": {
        "id": "SAKDPs78o5lp",
        "colab_type": "code",
        "colab": {}
      },
      "cell_type": "code",
      "source": [
        "# #This Block Of Code Only Needed in Google Colab\n",
        "\n",
        "# !unzip \"/content/train.zip\""
      ],
      "execution_count": 0,
      "outputs": []
    },
    {
      "metadata": {
        "id": "yyaU-uLkpi5_",
        "colab_type": "code",
        "colab": {}
      },
      "cell_type": "code",
      "source": [
        "# #This Block Of Code Only Needed in Google Colab\n",
        "\n",
        "# !unzip \"/content/test.zip\""
      ],
      "execution_count": 0,
      "outputs": []
    },
    {
      "metadata": {
        "_cell_guid": "79c7e3d0-c299-4dcb-8224-4455121ee9b0",
        "_uuid": "d629ff2d2480ee46fbb7e2d37f6b5fab8052498a",
        "trusted": true,
        "id": "9EV7Co2MhIrM",
        "colab_type": "code",
        "colab": {}
      },
      "cell_type": "code",
      "source": [
        "import matplotlib.pyplot as plt\n",
        "import cv2\n",
        "import pickle\n",
        "import tensorflow as tf\n",
        "from tensorflow.keras.models import Sequential\n",
        "from tensorflow.keras.layers import Dense , Dropout , Activation , Flatten , Conv2D , MaxPooling2D\n",
        "from tensorflow.keras.callbacks import TensorBoard , ModelCheckpoint\n",
        "import time\n",
        "import pickle"
      ],
      "execution_count": 0,
      "outputs": []
    },
    {
      "metadata": {
        "id": "2Os_LvbJ0dN_",
        "colab_type": "code",
        "colab": {}
      },
      "cell_type": "code",
      "source": [
        "#Give Model a Name\n",
        "\n",
        "name = \"CatVsDog\""
      ],
      "execution_count": 0,
      "outputs": []
    },
    {
      "metadata": {
        "id": "mc4yo9910r8I",
        "colab_type": "code",
        "colab": {}
      },
      "cell_type": "code",
      "source": [
        "tensorboard = TensorBoard(log_dir = 'logs/{}'.format(name))"
      ],
      "execution_count": 0,
      "outputs": []
    },
    {
      "metadata": {
        "id": "_-NgMatGNbyh",
        "colab_type": "code",
        "colab": {}
      },
      "cell_type": "code",
      "source": [
        "checkpoint = ModelCheckpoint(filepath='BestModel' , save_best_only = True , mode = 'max')"
      ],
      "execution_count": 0,
      "outputs": []
    },
    {
      "metadata": {
        "id": "NcbO4-5BNUyq",
        "colab_type": "code",
        "colab": {}
      },
      "cell_type": "code",
      "source": [
        ""
      ],
      "execution_count": 0,
      "outputs": []
    },
    {
      "metadata": {
        "trusted": true,
        "_uuid": "9ea6d86f2beedadbe9d6555fa794fdb20b0fd9c5",
        "id": "zMNOMYGjhIra",
        "colab_type": "code",
        "colab": {}
      },
      "cell_type": "code",
      "source": [
        "traindir = \"train\"\n",
        "testdir = \"test\"\n",
        "def get_ytrain(traindir):\n",
        "    y_train = []\n",
        "    for img_name in os.listdir(traindir):\n",
        "        animal_name = []\n",
        "        animal_name = img_name.split('.')[0]\n",
        "        y_train.append(0 if animal_name == 'cat' else 1)\n",
        "    return y_train\n",
        "def get_data(dir_path=\"train\" , img_size=100 , data_type=\"train\"):\n",
        "    data = []\n",
        "    if data_type == \"train\":\n",
        "        y_train = get_ytrain(dir_path)\n",
        "    for index,img in enumerate(os.listdir(dir_path)):\n",
        "        img_array = cv2.imread(os.path.join(dir_path,img))\n",
        "        new_array = cv2.resize(img_array , (img_size , img_size))\n",
        "        if data_type==\"train\":\n",
        "            data.append([new_array , y_train[index]])\n",
        "        else:\n",
        "            data.append(new_array)\n",
        "    return data"
      ],
      "execution_count": 0,
      "outputs": []
    },
    {
      "metadata": {
        "trusted": true,
        "_uuid": "69bc10429364e3838a2bba745acebd5a5a6df911",
        "id": "Z8JnVx4mhIr2",
        "colab_type": "code",
        "colab": {}
      },
      "cell_type": "code",
      "source": [
        "# training_data = get_data(img_size=100)"
      ],
      "execution_count": 0,
      "outputs": []
    },
    {
      "metadata": {
        "trusted": true,
        "_uuid": "b39f7dfb6740053d9bf01f0443bc3d621efb0375",
        "id": "4lCdYkM_hIsG",
        "colab_type": "code",
        "colab": {}
      },
      "cell_type": "code",
      "source": [
        "# test_data = get_data(dir_path = testdir , img_size=100,data_type=\"test\")\n",
        "# test_data = np.array(test_data)\n",
        "# print(test_data.shape)"
      ],
      "execution_count": 0,
      "outputs": []
    },
    {
      "metadata": {
        "trusted": true,
        "_uuid": "9f19db2af25d6afbaf924be9e3ad7882a352f0bb",
        "id": "cfuIxy78hIsT",
        "colab_type": "code",
        "colab": {}
      },
      "cell_type": "code",
      "source": [
        "# X_train = []\n",
        "# y_train = []"
      ],
      "execution_count": 0,
      "outputs": []
    },
    {
      "metadata": {
        "trusted": true,
        "_uuid": "dec93f4047769ed945cfc2cab000f2edcb21b6c8",
        "id": "1P5XchZLhIsd",
        "colab_type": "code",
        "colab": {}
      },
      "cell_type": "code",
      "source": [
        "# for feature , label in training_data:\n",
        "#     X_train.append(feature)\n",
        "#     y_train.append(label)"
      ],
      "execution_count": 0,
      "outputs": []
    },
    {
      "metadata": {
        "trusted": true,
        "_uuid": "64781340c02e6a5bf508f2b8600298140b19ac3e",
        "id": "MMYaiQNXhIsz",
        "colab_type": "code",
        "colab": {}
      },
      "cell_type": "code",
      "source": [
        "# X_train = np.array(X_train)\n",
        "# y_train = np.array(y_train).reshape(-1,1)\n",
        "# print(X_train.shape)\n",
        "# print(y_train.shape)"
      ],
      "execution_count": 0,
      "outputs": []
    },
    {
      "metadata": {
        "trusted": true,
        "_uuid": "00b7785f51a7df841cd95ba67eb136daa632661c",
        "id": "VVV3bVBZhIth",
        "colab_type": "code",
        "colab": {}
      },
      "cell_type": "code",
      "source": [
        "# #Save Data\n",
        "# def save_data(file_name , data_to_dump):\n",
        "#     with open(file_name , mode='wb') as data:\n",
        "#         pickle.dump(data_to_dump , data)\n",
        "\n",
        "# save_data(\"X_train\" , X_train)\n",
        "# save_data(\"y_train\" , y_train)\n",
        "# save_data(\"test_data\" , test_data)"
      ],
      "execution_count": 0,
      "outputs": []
    },
    {
      "metadata": {
        "trusted": true,
        "_uuid": "c313df5e332c1cea9e94950e08e76bc5f19398ee",
        "id": "v-Y6IAHqhIt1",
        "colab_type": "code",
        "colab": {
          "base_uri": "https://localhost:8080/",
          "height": 69
        },
        "outputId": "48308f25-138a-4791-8da0-52859bb5ea94"
      },
      "cell_type": "code",
      "source": [
        "#Retreive Data Back \n",
        "def load_data(file_name):\n",
        "    with open(file_name,mode='rb') as file:\n",
        "        data = pickle.load(file)\n",
        "    return data\n",
        "X_train = load_data(\"X_train\")\n",
        "print(X_train.shape)\n",
        "y_train = load_data(\"y_train\")\n",
        "print(y_train.shape)\n",
        "test_data = load_data(\"test_data\")\n",
        "print(test_data.shape)"
      ],
      "execution_count": 17,
      "outputs": [
        {
          "output_type": "stream",
          "text": [
            "(25000, 100, 100, 3)\n",
            "(25000, 1)\n",
            "(12500, 100, 100, 3)\n"
          ],
          "name": "stdout"
        }
      ]
    },
    {
      "metadata": {
        "trusted": true,
        "_uuid": "cd5b8ab14d9dd02803046e40dfc8d8f942b20c0a",
        "id": "ZMDGUK6AhIuF",
        "colab_type": "code",
        "colab": {}
      },
      "cell_type": "code",
      "source": [
        "X_train = X_train/255.0\n",
        "test_data = test_data/255.0"
      ],
      "execution_count": 0,
      "outputs": []
    },
    {
      "metadata": {
        "trusted": true,
        "_uuid": "a96c62abe0771ed9f1448ff563934376f36254f0",
        "id": "IlecgJKXhIuV",
        "colab_type": "code",
        "outputId": "b4fe9074-fef2-448f-dbce-a1f6dfda9676",
        "colab": {
          "base_uri": "https://localhost:8080/",
          "height": 225
        }
      },
      "cell_type": "code",
      "source": [
        "#model\n",
        "model = Sequential()\n",
        "model.add((Conv2D(filters=32 , kernel_size=(8,8) , input_shape = X_train.shape[1:])))\n",
        "model.add(Activation(\"relu\"))\n",
        "model.add(MaxPooling2D(pool_size=(4,4)))\n",
        "model.add(Dropout(0.3))\n",
        "\n",
        "model.add((Conv2D(filters=64 , kernel_size=(6,6))))\n",
        "model.add(Activation(\"relu\"))\n",
        "model.add(MaxPooling2D(pool_size=(3,3)))\n",
        "model.add(Dropout(0.3))\n",
        "\n",
        "# model.add((Conv2D(filters=128 , kernel_size=(4,4))))\n",
        "# model.add(Activation(\"relu\"))\n",
        "# model.add(MaxPooling2D(pool_size=(2,2)))\n",
        "# model.add(Dropout(0.4))\n",
        "\n",
        "model.add(Flatten())\n",
        "# model.add(Dense(16))\n",
        "# model.add(Activation(\"relu\"))\n",
        "# model.add(Dropout(0.2))\n",
        "\n",
        "model.add(Dense(1))\n",
        "model.add(Activation(\"sigmoid\"))\n",
        "\n",
        "model.compile(loss='binary_crossentropy',\n",
        "             optimizer=\"adam\",\n",
        "             metrics=['accuracy'])\n",
        "model.fit(X_train , y_train ,epochs=5\n",
        "          ,  batch_size=32,validation_split=0.2 , callbacks=[tensorboard , checkpoint])"
      ],
      "execution_count": 34,
      "outputs": [
        {
          "output_type": "stream",
          "text": [
            "Train on 20000 samples, validate on 5000 samples\n",
            "Epoch 1/5\n",
            "20000/20000 [==============================] - 24s 1ms/step - loss: 0.6674 - acc: 0.5873 - val_loss: 0.6351 - val_acc: 0.6562\n",
            "Epoch 2/5\n",
            "20000/20000 [==============================] - 23s 1ms/step - loss: 0.6156 - acc: 0.6685 - val_loss: 0.5864 - val_acc: 0.7084\n",
            "Epoch 3/5\n",
            "20000/20000 [==============================] - 19s 958us/step - loss: 0.5725 - acc: 0.7037 - val_loss: 0.5802 - val_acc: 0.6998\n",
            "Epoch 4/5\n",
            "20000/20000 [==============================] - 19s 953us/step - loss: 0.5454 - acc: 0.7238 - val_loss: 0.5252 - val_acc: 0.7450\n",
            "Epoch 5/5\n",
            "20000/20000 [==============================] - 20s 1ms/step - loss: 0.5223 - acc: 0.7425 - val_loss: 0.5229 - val_acc: 0.7370\n"
          ],
          "name": "stdout"
        },
        {
          "output_type": "execute_result",
          "data": {
            "text/plain": [
              "<tensorflow.python.keras.callbacks.History at 0x7f0dd4a6a9b0>"
            ]
          },
          "metadata": {
            "tags": []
          },
          "execution_count": 34
        }
      ]
    },
    {
      "metadata": {
        "trusted": true,
        "_uuid": "7e03e8160bbb831c2e0c98af91a2f73748f6c411",
        "id": "GBCWlVK-hIuj",
        "colab_type": "code",
        "colab": {}
      },
      "cell_type": "code",
      "source": [
        "prediction = model.predict(test_data)"
      ],
      "execution_count": 0,
      "outputs": []
    },
    {
      "metadata": {
        "trusted": true,
        "_uuid": "6f27109aa2c25520aaeaf868b213aeb81d76a047",
        "id": "C2y95zOYhIu0",
        "colab_type": "code",
        "outputId": "04a997f2-b071-4963-bae9-8988c0455123",
        "colab": {
          "base_uri": "https://localhost:8080/",
          "height": 34
        }
      },
      "cell_type": "code",
      "source": [
        "prediction.shape"
      ],
      "execution_count": 29,
      "outputs": [
        {
          "output_type": "execute_result",
          "data": {
            "text/plain": [
              "(12500, 1)"
            ]
          },
          "metadata": {
            "tags": []
          },
          "execution_count": 29
        }
      ]
    },
    {
      "metadata": {
        "trusted": true,
        "_uuid": "e70093cb8d309675a77380ee389e1d33831ae13e",
        "id": "s6nL84AdhIvB",
        "colab_type": "code",
        "colab": {}
      },
      "cell_type": "code",
      "source": [
        "prediction = prediction.reshape(prediction.shape[0],)\n"
      ],
      "execution_count": 0,
      "outputs": []
    },
    {
      "metadata": {
        "id": "wCT3ZJZsMWI8",
        "colab_type": "code",
        "colab": {
          "base_uri": "https://localhost:8080/",
          "height": 52
        },
        "outputId": "837e1fc3-614b-4b0b-fb7d-bef18ab22c9d"
      },
      "cell_type": "code",
      "source": [
        "prediction"
      ],
      "execution_count": 31,
      "outputs": [
        {
          "output_type": "execute_result",
          "data": {
            "text/plain": [
              "array([0.09492346, 0.00331743, 0.9985228 , ..., 0.8251995 , 0.60039186,\n",
              "       0.3540866 ], dtype=float32)"
            ]
          },
          "metadata": {
            "tags": []
          },
          "execution_count": 31
        }
      ]
    },
    {
      "metadata": {
        "trusted": true,
        "_uuid": "fa41910a50d6970ff4c3b3fe89f733acd5c1aa8d",
        "id": "gGqDGRsLhIvO",
        "colab_type": "code",
        "outputId": "2a6f467a-4910-4cac-c33b-80acb176ef01",
        "colab": {
          "base_uri": "https://localhost:8080/",
          "height": 1992
        }
      },
      "cell_type": "code",
      "source": [
        "counter = range(1, len(test_data) + 1)\n",
        "solution = pd.DataFrame({\"id\": counter, \"label\":list(prediction)})\n",
        " \n",
        "\n",
        "solution.to_csv(\"dogsVScats.csv\", index = False)\n",
        "solution"
      ],
      "execution_count": 32,
      "outputs": [
        {
          "output_type": "execute_result",
          "data": {
            "text/html": [
              "<div>\n",
              "<style scoped>\n",
              "    .dataframe tbody tr th:only-of-type {\n",
              "        vertical-align: middle;\n",
              "    }\n",
              "\n",
              "    .dataframe tbody tr th {\n",
              "        vertical-align: top;\n",
              "    }\n",
              "\n",
              "    .dataframe thead th {\n",
              "        text-align: right;\n",
              "    }\n",
              "</style>\n",
              "<table border=\"1\" class=\"dataframe\">\n",
              "  <thead>\n",
              "    <tr style=\"text-align: right;\">\n",
              "      <th></th>\n",
              "      <th>id</th>\n",
              "      <th>label</th>\n",
              "    </tr>\n",
              "  </thead>\n",
              "  <tbody>\n",
              "    <tr>\n",
              "      <th>0</th>\n",
              "      <td>1</td>\n",
              "      <td>9.492346e-02</td>\n",
              "    </tr>\n",
              "    <tr>\n",
              "      <th>1</th>\n",
              "      <td>2</td>\n",
              "      <td>3.317432e-03</td>\n",
              "    </tr>\n",
              "    <tr>\n",
              "      <th>2</th>\n",
              "      <td>3</td>\n",
              "      <td>9.985228e-01</td>\n",
              "    </tr>\n",
              "    <tr>\n",
              "      <th>3</th>\n",
              "      <td>4</td>\n",
              "      <td>6.616721e-02</td>\n",
              "    </tr>\n",
              "    <tr>\n",
              "      <th>4</th>\n",
              "      <td>5</td>\n",
              "      <td>6.991080e-01</td>\n",
              "    </tr>\n",
              "    <tr>\n",
              "      <th>5</th>\n",
              "      <td>6</td>\n",
              "      <td>3.375899e-03</td>\n",
              "    </tr>\n",
              "    <tr>\n",
              "      <th>6</th>\n",
              "      <td>7</td>\n",
              "      <td>8.819088e-02</td>\n",
              "    </tr>\n",
              "    <tr>\n",
              "      <th>7</th>\n",
              "      <td>8</td>\n",
              "      <td>7.007869e-01</td>\n",
              "    </tr>\n",
              "    <tr>\n",
              "      <th>8</th>\n",
              "      <td>9</td>\n",
              "      <td>8.107682e-01</td>\n",
              "    </tr>\n",
              "    <tr>\n",
              "      <th>9</th>\n",
              "      <td>10</td>\n",
              "      <td>1.527716e-02</td>\n",
              "    </tr>\n",
              "    <tr>\n",
              "      <th>10</th>\n",
              "      <td>11</td>\n",
              "      <td>9.539236e-01</td>\n",
              "    </tr>\n",
              "    <tr>\n",
              "      <th>11</th>\n",
              "      <td>12</td>\n",
              "      <td>4.161654e-01</td>\n",
              "    </tr>\n",
              "    <tr>\n",
              "      <th>12</th>\n",
              "      <td>13</td>\n",
              "      <td>9.766861e-01</td>\n",
              "    </tr>\n",
              "    <tr>\n",
              "      <th>13</th>\n",
              "      <td>14</td>\n",
              "      <td>8.468848e-01</td>\n",
              "    </tr>\n",
              "    <tr>\n",
              "      <th>14</th>\n",
              "      <td>15</td>\n",
              "      <td>9.435139e-01</td>\n",
              "    </tr>\n",
              "    <tr>\n",
              "      <th>15</th>\n",
              "      <td>16</td>\n",
              "      <td>4.856409e-01</td>\n",
              "    </tr>\n",
              "    <tr>\n",
              "      <th>16</th>\n",
              "      <td>17</td>\n",
              "      <td>9.976851e-01</td>\n",
              "    </tr>\n",
              "    <tr>\n",
              "      <th>17</th>\n",
              "      <td>18</td>\n",
              "      <td>9.517190e-01</td>\n",
              "    </tr>\n",
              "    <tr>\n",
              "      <th>18</th>\n",
              "      <td>19</td>\n",
              "      <td>5.386012e-05</td>\n",
              "    </tr>\n",
              "    <tr>\n",
              "      <th>19</th>\n",
              "      <td>20</td>\n",
              "      <td>2.873499e-01</td>\n",
              "    </tr>\n",
              "    <tr>\n",
              "      <th>20</th>\n",
              "      <td>21</td>\n",
              "      <td>1.414242e-03</td>\n",
              "    </tr>\n",
              "    <tr>\n",
              "      <th>21</th>\n",
              "      <td>22</td>\n",
              "      <td>8.873879e-01</td>\n",
              "    </tr>\n",
              "    <tr>\n",
              "      <th>22</th>\n",
              "      <td>23</td>\n",
              "      <td>7.034904e-03</td>\n",
              "    </tr>\n",
              "    <tr>\n",
              "      <th>23</th>\n",
              "      <td>24</td>\n",
              "      <td>3.550639e-01</td>\n",
              "    </tr>\n",
              "    <tr>\n",
              "      <th>24</th>\n",
              "      <td>25</td>\n",
              "      <td>4.634752e-01</td>\n",
              "    </tr>\n",
              "    <tr>\n",
              "      <th>25</th>\n",
              "      <td>26</td>\n",
              "      <td>7.199306e-01</td>\n",
              "    </tr>\n",
              "    <tr>\n",
              "      <th>26</th>\n",
              "      <td>27</td>\n",
              "      <td>9.636965e-01</td>\n",
              "    </tr>\n",
              "    <tr>\n",
              "      <th>27</th>\n",
              "      <td>28</td>\n",
              "      <td>7.716417e-01</td>\n",
              "    </tr>\n",
              "    <tr>\n",
              "      <th>28</th>\n",
              "      <td>29</td>\n",
              "      <td>3.564654e-02</td>\n",
              "    </tr>\n",
              "    <tr>\n",
              "      <th>29</th>\n",
              "      <td>30</td>\n",
              "      <td>5.513370e-02</td>\n",
              "    </tr>\n",
              "    <tr>\n",
              "      <th>...</th>\n",
              "      <td>...</td>\n",
              "      <td>...</td>\n",
              "    </tr>\n",
              "    <tr>\n",
              "      <th>12470</th>\n",
              "      <td>12471</td>\n",
              "      <td>6.255938e-07</td>\n",
              "    </tr>\n",
              "    <tr>\n",
              "      <th>12471</th>\n",
              "      <td>12472</td>\n",
              "      <td>4.554579e-03</td>\n",
              "    </tr>\n",
              "    <tr>\n",
              "      <th>12472</th>\n",
              "      <td>12473</td>\n",
              "      <td>5.247723e-03</td>\n",
              "    </tr>\n",
              "    <tr>\n",
              "      <th>12473</th>\n",
              "      <td>12474</td>\n",
              "      <td>9.706709e-01</td>\n",
              "    </tr>\n",
              "    <tr>\n",
              "      <th>12474</th>\n",
              "      <td>12475</td>\n",
              "      <td>2.914909e-01</td>\n",
              "    </tr>\n",
              "    <tr>\n",
              "      <th>12475</th>\n",
              "      <td>12476</td>\n",
              "      <td>9.514661e-01</td>\n",
              "    </tr>\n",
              "    <tr>\n",
              "      <th>12476</th>\n",
              "      <td>12477</td>\n",
              "      <td>6.835211e-01</td>\n",
              "    </tr>\n",
              "    <tr>\n",
              "      <th>12477</th>\n",
              "      <td>12478</td>\n",
              "      <td>7.083454e-01</td>\n",
              "    </tr>\n",
              "    <tr>\n",
              "      <th>12478</th>\n",
              "      <td>12479</td>\n",
              "      <td>9.988391e-01</td>\n",
              "    </tr>\n",
              "    <tr>\n",
              "      <th>12479</th>\n",
              "      <td>12480</td>\n",
              "      <td>9.674247e-01</td>\n",
              "    </tr>\n",
              "    <tr>\n",
              "      <th>12480</th>\n",
              "      <td>12481</td>\n",
              "      <td>2.243534e-01</td>\n",
              "    </tr>\n",
              "    <tr>\n",
              "      <th>12481</th>\n",
              "      <td>12482</td>\n",
              "      <td>4.956510e-02</td>\n",
              "    </tr>\n",
              "    <tr>\n",
              "      <th>12482</th>\n",
              "      <td>12483</td>\n",
              "      <td>7.943554e-01</td>\n",
              "    </tr>\n",
              "    <tr>\n",
              "      <th>12483</th>\n",
              "      <td>12484</td>\n",
              "      <td>6.176898e-01</td>\n",
              "    </tr>\n",
              "    <tr>\n",
              "      <th>12484</th>\n",
              "      <td>12485</td>\n",
              "      <td>1.350028e-02</td>\n",
              "    </tr>\n",
              "    <tr>\n",
              "      <th>12485</th>\n",
              "      <td>12486</td>\n",
              "      <td>1.051320e-02</td>\n",
              "    </tr>\n",
              "    <tr>\n",
              "      <th>12486</th>\n",
              "      <td>12487</td>\n",
              "      <td>2.598967e-01</td>\n",
              "    </tr>\n",
              "    <tr>\n",
              "      <th>12487</th>\n",
              "      <td>12488</td>\n",
              "      <td>1.122209e-01</td>\n",
              "    </tr>\n",
              "    <tr>\n",
              "      <th>12488</th>\n",
              "      <td>12489</td>\n",
              "      <td>2.559994e-03</td>\n",
              "    </tr>\n",
              "    <tr>\n",
              "      <th>12489</th>\n",
              "      <td>12490</td>\n",
              "      <td>6.728150e-03</td>\n",
              "    </tr>\n",
              "    <tr>\n",
              "      <th>12490</th>\n",
              "      <td>12491</td>\n",
              "      <td>6.530932e-01</td>\n",
              "    </tr>\n",
              "    <tr>\n",
              "      <th>12491</th>\n",
              "      <td>12492</td>\n",
              "      <td>5.107587e-02</td>\n",
              "    </tr>\n",
              "    <tr>\n",
              "      <th>12492</th>\n",
              "      <td>12493</td>\n",
              "      <td>6.810908e-01</td>\n",
              "    </tr>\n",
              "    <tr>\n",
              "      <th>12493</th>\n",
              "      <td>12494</td>\n",
              "      <td>4.670254e-01</td>\n",
              "    </tr>\n",
              "    <tr>\n",
              "      <th>12494</th>\n",
              "      <td>12495</td>\n",
              "      <td>9.897324e-01</td>\n",
              "    </tr>\n",
              "    <tr>\n",
              "      <th>12495</th>\n",
              "      <td>12496</td>\n",
              "      <td>5.138914e-01</td>\n",
              "    </tr>\n",
              "    <tr>\n",
              "      <th>12496</th>\n",
              "      <td>12497</td>\n",
              "      <td>9.029072e-01</td>\n",
              "    </tr>\n",
              "    <tr>\n",
              "      <th>12497</th>\n",
              "      <td>12498</td>\n",
              "      <td>8.251995e-01</td>\n",
              "    </tr>\n",
              "    <tr>\n",
              "      <th>12498</th>\n",
              "      <td>12499</td>\n",
              "      <td>6.003919e-01</td>\n",
              "    </tr>\n",
              "    <tr>\n",
              "      <th>12499</th>\n",
              "      <td>12500</td>\n",
              "      <td>3.540866e-01</td>\n",
              "    </tr>\n",
              "  </tbody>\n",
              "</table>\n",
              "<p>12500 rows × 2 columns</p>\n",
              "</div>"
            ],
            "text/plain": [
              "          id         label\n",
              "0          1  9.492346e-02\n",
              "1          2  3.317432e-03\n",
              "2          3  9.985228e-01\n",
              "3          4  6.616721e-02\n",
              "4          5  6.991080e-01\n",
              "5          6  3.375899e-03\n",
              "6          7  8.819088e-02\n",
              "7          8  7.007869e-01\n",
              "8          9  8.107682e-01\n",
              "9         10  1.527716e-02\n",
              "10        11  9.539236e-01\n",
              "11        12  4.161654e-01\n",
              "12        13  9.766861e-01\n",
              "13        14  8.468848e-01\n",
              "14        15  9.435139e-01\n",
              "15        16  4.856409e-01\n",
              "16        17  9.976851e-01\n",
              "17        18  9.517190e-01\n",
              "18        19  5.386012e-05\n",
              "19        20  2.873499e-01\n",
              "20        21  1.414242e-03\n",
              "21        22  8.873879e-01\n",
              "22        23  7.034904e-03\n",
              "23        24  3.550639e-01\n",
              "24        25  4.634752e-01\n",
              "25        26  7.199306e-01\n",
              "26        27  9.636965e-01\n",
              "27        28  7.716417e-01\n",
              "28        29  3.564654e-02\n",
              "29        30  5.513370e-02\n",
              "...      ...           ...\n",
              "12470  12471  6.255938e-07\n",
              "12471  12472  4.554579e-03\n",
              "12472  12473  5.247723e-03\n",
              "12473  12474  9.706709e-01\n",
              "12474  12475  2.914909e-01\n",
              "12475  12476  9.514661e-01\n",
              "12476  12477  6.835211e-01\n",
              "12477  12478  7.083454e-01\n",
              "12478  12479  9.988391e-01\n",
              "12479  12480  9.674247e-01\n",
              "12480  12481  2.243534e-01\n",
              "12481  12482  4.956510e-02\n",
              "12482  12483  7.943554e-01\n",
              "12483  12484  6.176898e-01\n",
              "12484  12485  1.350028e-02\n",
              "12485  12486  1.051320e-02\n",
              "12486  12487  2.598967e-01\n",
              "12487  12488  1.122209e-01\n",
              "12488  12489  2.559994e-03\n",
              "12489  12490  6.728150e-03\n",
              "12490  12491  6.530932e-01\n",
              "12491  12492  5.107587e-02\n",
              "12492  12493  6.810908e-01\n",
              "12493  12494  4.670254e-01\n",
              "12494  12495  9.897324e-01\n",
              "12495  12496  5.138914e-01\n",
              "12496  12497  9.029072e-01\n",
              "12497  12498  8.251995e-01\n",
              "12498  12499  6.003919e-01\n",
              "12499  12500  3.540866e-01\n",
              "\n",
              "[12500 rows x 2 columns]"
            ]
          },
          "metadata": {
            "tags": []
          },
          "execution_count": 32
        }
      ]
    },
    {
      "metadata": {
        "trusted": true,
        "_uuid": "ef1e02339176e4a43e94ee8362199f765569a69c",
        "id": "_-j7cljHhIvi",
        "colab_type": "code",
        "colab": {}
      },
      "cell_type": "code",
      "source": [
        ""
      ],
      "execution_count": 0,
      "outputs": []
    }
  ]
}